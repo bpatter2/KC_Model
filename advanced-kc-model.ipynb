{
 "cells": [
  {
   "cell_type": "code",
   "execution_count": 1,
   "id": "85379ce4",
   "metadata": {
    "execution": {
     "iopub.execute_input": "2022-03-03T17:38:40.476858Z",
     "iopub.status.busy": "2022-03-03T17:38:40.469679Z",
     "iopub.status.idle": "2022-03-03T17:38:40.534927Z",
     "shell.execute_reply": "2022-03-03T17:38:40.535451Z",
     "shell.execute_reply.started": "2022-03-03T17:35:46.009007Z"
    },
    "papermill": {
     "duration": 0.078136,
     "end_time": "2022-03-03T17:38:40.535754",
     "exception": false,
     "start_time": "2022-03-03T17:38:40.457618",
     "status": "completed"
    },
    "tags": []
   },
   "outputs": [],
   "source": [
    "import pandas as pd\n",
    "import numpy as np\n",
    "import csv, time\n",
    "import warnings\n",
    "import random as r\n",
    "warnings.filterwarnings('ignore')\n",
    "\n",
    "dataset_path = \"../input/assignmentdata/AssignmentData.csv\"\n",
    "df = pd.read_csv(dataset_path)\n",
    "data_labels = [\"KC_1\",\"KC_27\",\"KC_24\",\"KC_14\",\"KC_22\",\"KC_20\",\"KC_21\"]\n",
    "\n",
    "students = df.groupby(\"Student\")"
   ]
  },
  {
   "cell_type": "code",
   "execution_count": 2,
   "id": "92d1f926",
   "metadata": {
    "execution": {
     "iopub.execute_input": "2022-03-03T17:38:40.560634Z",
     "iopub.status.busy": "2022-03-03T17:38:40.559625Z",
     "iopub.status.idle": "2022-03-03T17:38:40.562397Z",
     "shell.execute_reply": "2022-03-03T17:38:40.561942Z",
     "shell.execute_reply.started": "2022-03-03T17:35:48.781940Z"
    },
    "papermill": {
     "duration": 0.019335,
     "end_time": "2022-03-03T17:38:40.562564",
     "exception": false,
     "start_time": "2022-03-03T17:38:40.543229",
     "status": "completed"
    },
    "tags": []
   },
   "outputs": [],
   "source": [
    "class Student():\n",
    "    def __init__(self, name):\n",
    "        self.name = name\n",
    "        \n",
    "        self.experiences = {'KC_1': [], 'KC_27': [], 'KC_24': [], 'KC_14': [], 'KC_22': [], 'KC_20': [], 'KC_21': []}\n",
    "        # The given learning paramters are (Lecture 11):\n",
    "        # p(L0) is the probability that a student already knows the skill before the 1st iteration\n",
    "        # p(T)  is the probabilty that the skill will be learned on each iteration, aka each opportunity to use the skill.\n",
    "        \n",
    "        # The given performance parameters are (Lecture 11):\n",
    "        # p(G)  is the probabilty that the student will guess and do the step correctly without actually knowing the rule at hand \n",
    "        # p(S)  is the probabilty that the student knows the skill but they mess-up/slip-up so they do the rule wrong \n",
    "\n",
    "        # (0.75, 0, 0) - Assumption is after each session, there is a 75% the student will learn it\n",
    "        self.T, self.S, self.G = (0.50, 0.1, 0.5)\n",
    "            \n",
    "    def learn(self, KCs, percent):\n",
    "        for kc in KCs:\n",
    "            learned = self.prob_latent_knowledge(kc)\n",
    "            if r.random() <= self.T: \n",
    "                self.experiences[kc].append(percent)\n",
    "        # We will be trying to predict two things:    \n",
    "        # p(Ln) the current knowledge of a student\n",
    "        # p(Cs) the probability that an item will be correct\n",
    "    \n",
    "        # p(Ln) = p(Ln−1|evidence) + (1 − p(Ln−1|evidence)) ∗ p(T)\n",
    "        #  The probability that a rule will be learned after the nth opportunity \n",
    "        #  We focus on the probability that the ideal rule was already in the learned state contingent \n",
    "        #  and the probability that the rule go to the learned state if it is not already \"learnt\"\n",
    "  \n",
    "    def prob_latent_knowledge(self, kc):\n",
    "        if self.experiences.get(kc):\n",
    "            last_instance = self.experiences.get(kc)[-1]\n",
    "            return last_instance + ( ( 1 - last_instance ) * self.T)\n",
    "        else:\n",
    "            return 0.0\n",
    "\n",
    "   \n",
    "    def prob_correct(self, KCs):\n",
    "        correctness = 0.0\n",
    "        correct_threshold = 0.80\n",
    "        for kc in KCs:\n",
    "            learned_state = self.prob_latent_knowledge(kc)\n",
    "            slip = 1 - self.S\n",
    "            not_learned = 1 - learned_state\n",
    "            guess = self.G\n",
    "            correctness += (learned_state * slip) + (not_learned * guess)\n",
    "        correctness = correctness / len(KCs)\n",
    "        return (correctness >= correct_threshold, correctness)"
   ]
  },
  {
   "cell_type": "code",
   "execution_count": 3,
   "id": "08a4fa2e",
   "metadata": {
    "execution": {
     "iopub.execute_input": "2022-03-03T17:38:40.582634Z",
     "iopub.status.busy": "2022-03-03T17:38:40.581812Z",
     "iopub.status.idle": "2022-03-03T17:38:54.525888Z",
     "shell.execute_reply": "2022-03-03T17:38:54.525178Z",
     "shell.execute_reply.started": "2022-03-03T17:36:26.603194Z"
    },
    "papermill": {
     "duration": 13.958222,
     "end_time": "2022-03-03T17:38:54.526046",
     "exception": false,
     "start_time": "2022-03-03T17:38:40.567824",
     "status": "completed"
    },
    "tags": []
   },
   "outputs": [],
   "source": [
    "correctly_guessed = 0\n",
    "total_instances = 0\n",
    "BREAK_POINT = 100\n",
    "i=0\n",
    "for student, stud_data in students:\n",
    "    i+=1\n",
    "    #     print(student)\n",
    "    #     commented out to avoid clutter\n",
    "    s = Student(student)\n",
    "    steps = stud_data.groupby(\"StepID\")\n",
    "    j = 0\n",
    "    for step, step_data in steps:\n",
    "        j += 1\n",
    "        total_instances += 1\n",
    "        required_KCs = {kc: int(step_data.get(kc)) for kc in data_labels if int(step_data.get(kc)) == 1}\n",
    "        correct = True if int(step_data.get(\"Correct\")) else False\n",
    "        prediction, percent = s.prob_correct(required_KCs)\n",
    "        \n",
    "    #         print(student, step, required_KCs, correct, prediction, percent)\n",
    "    #         Uncomment in the case of future testing @Blake\n",
    "        \n",
    "        if correct == prediction:\n",
    "            correctly_guessed += 1\n",
    "        \n",
    "        s.learn(required_KCs, percent)"
   ]
  },
  {
   "cell_type": "code",
   "execution_count": 4,
   "id": "29d22fc9",
   "metadata": {
    "execution": {
     "iopub.execute_input": "2022-03-03T17:38:54.542174Z",
     "iopub.status.busy": "2022-03-03T17:38:54.541584Z",
     "iopub.status.idle": "2022-03-03T17:38:54.544740Z",
     "shell.execute_reply": "2022-03-03T17:38:54.545189Z",
     "shell.execute_reply.started": "2022-03-03T17:37:31.172735Z"
    },
    "papermill": {
     "duration": 0.013903,
     "end_time": "2022-03-03T17:38:54.545348",
     "exception": false,
     "start_time": "2022-03-03T17:38:54.531445",
     "status": "completed"
    },
    "tags": []
   },
   "outputs": [
    {
     "name": "stdout",
     "output_type": "stream",
     "text": [
      "Correctly Guessed: 30669 (out of 36627)\n",
      "Percent Correctly Guessed: 83.73%\n"
     ]
    }
   ],
   "source": [
    "string = \"Correctly Guessed: {0} (out of {2})\\nPercent Correctly Guessed: {1:.4}%\"\n",
    "print(string.format(correctly_guessed, (correctly_guessed / total_instances * 100), len(df)))"
   ]
  },
  {
   "cell_type": "code",
   "execution_count": 5,
   "id": "2f2b30c8",
   "metadata": {
    "execution": {
     "iopub.execute_input": "2022-03-03T17:38:54.563441Z",
     "iopub.status.busy": "2022-03-03T17:38:54.562445Z",
     "iopub.status.idle": "2022-03-03T17:38:54.566602Z",
     "shell.execute_reply": "2022-03-03T17:38:54.567005Z",
     "shell.execute_reply.started": "2022-03-03T17:37:33.541125Z"
    },
    "papermill": {
     "duration": 0.01584,
     "end_time": "2022-03-03T17:38:54.567173",
     "exception": false,
     "start_time": "2022-03-03T17:38:54.551333",
     "status": "completed"
    },
    "tags": []
   },
   "outputs": [
    {
     "name": "stdout",
     "output_type": "stream",
     "text": [
      "stu98\n",
      "KC_1 0.5\n",
      "KC_14 0.5 0.8 0.86 0.872 0.8744 0.8749 0.875 0.875 0.875 0.875\n",
      "KC_20 0.5 0.8 0.86 0.872 0.8744 0.8749 0.875 0.875 0.875 0.875 0.875 0.875 0.875 0.875 0.875 0.875 0.875 0.875 0.875 0.875 0.875 0.875 0.875 0.875 0.875\n",
      "KC_21 0.5 0.8 0.86 0.872 0.8744 0.8734 0.8747 0.8749 0.875 0.875 0.875 0.875 0.875 0.875 0.875 0.875 0.875 0.875 0.875 0.875 0.875 0.875 0.875 0.875 0.8735 0.8747\n",
      "KC_22 0.5 0.8 0.86 0.8735 0.8748 0.875 0.875 0.875 0.875 0.875 0.875 0.875 0.875 0.875 0.875 0.875 0.875 0.875\n",
      "KC_24 0.5 0.8 0.86 0.872 0.8744 0.8749 0.875 0.875 0.875 0.875 0.875 0.875 0.875 0.875 0.875 0.875 0.875 0.875 0.875 0.875 0.875 0.875 0.875 0.875 0.875 0.875 0.875 0.875 0.875 0.875 0.875 0.875 0.875 0.875 0.875\n",
      "KC_27 0.5 0.8 0.86 0.872 0.8744 0.8749 0.875 0.875 0.875 0.875\n"
     ]
    }
   ],
   "source": [
    "print(s.name)\n",
    "for kc in sorted(data_labels):\n",
    "    print(kc, ' '.join(\"{0:.4}\".format(i) for i in s.experiences.get(kc)))"
   ]
  }
 ],
 "metadata": {
  "kernelspec": {
   "display_name": "Python 3",
   "language": "python",
   "name": "python3"
  },
  "language_info": {
   "codemirror_mode": {
    "name": "ipython",
    "version": 3
   },
   "file_extension": ".py",
   "mimetype": "text/x-python",
   "name": "python",
   "nbconvert_exporter": "python",
   "pygments_lexer": "ipython3",
   "version": "3.7.12"
  },
  "papermill": {
   "default_parameters": {},
   "duration": 23.655708,
   "end_time": "2022-03-03T17:38:55.182461",
   "environment_variables": {},
   "exception": null,
   "input_path": "__notebook__.ipynb",
   "output_path": "__notebook__.ipynb",
   "parameters": {},
   "start_time": "2022-03-03T17:38:31.526753",
   "version": "2.3.3"
  }
 },
 "nbformat": 4,
 "nbformat_minor": 5
}
